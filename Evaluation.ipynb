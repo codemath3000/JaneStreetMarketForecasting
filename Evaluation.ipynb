{
  "cells": [
    {
      "cell_type": "markdown",
      "source": [
        "This notebook runs the model that was trained in Training.ipynb, allowing it to be submitted to the Kaggle competition."
      ],
      "metadata": {
        "id": "xi9OKr3_UmDa"
      },
      "id": "xi9OKr3_UmDa"
    },
    {
      "cell_type": "code",
      "execution_count": null,
      "id": "9ee109da",
      "metadata": {
        "_cell_guid": "b1076dfc-b9ad-4769-8c92-a6c4dae69d19",
        "_uuid": "8f2839f25d086af736a60e9eeb907d3b93b6e0e5",
        "execution": {
          "iopub.execute_input": "2024-12-21T22:31:43.947723Z",
          "iopub.status.busy": "2024-12-21T22:31:43.947350Z",
          "iopub.status.idle": "2024-12-21T22:31:51.695708Z",
          "shell.execute_reply": "2024-12-21T22:31:51.694503Z"
        },
        "papermill": {
          "duration": 7.754467,
          "end_time": "2024-12-21T22:31:51.698162",
          "exception": false,
          "start_time": "2024-12-21T22:31:43.943695",
          "status": "completed"
        },
        "tags": [],
        "id": "9ee109da"
      },
      "outputs": [],
      "source": [
        "import numpy as np\n",
        "import pandas as pd\n",
        "import polars as pl\n",
        "\n",
        "from sklearn.linear_model import LinearRegression\n",
        "from sklearn.linear_model import ElasticNet\n",
        "from sklearn.linear_model import SGDRegressor, RidgeCV\n",
        "\n",
        "from sklearn.tree import DecisionTreeRegressor\n",
        "\n",
        "from sklearn.svm import LinearSVR, SVR\n",
        "\n",
        "from sklearn.multioutput import MultiOutputRegressor\n",
        "\n",
        "from sklearn.neighbors import KNeighborsRegressor\n",
        "\n",
        "from sklearn.ensemble import RandomForestRegressor, StackingRegressor, GradientBoostingRegressor\n",
        "\n",
        "from sklearn.neural_network import MLPRegressor\n",
        "\n",
        "import pickle\n",
        "\n",
        "import time\n",
        "\n",
        "import os\n",
        "\n",
        "import kaggle_evaluation.jane_street_inference_server\n",
        "\n",
        "model_data = []\n",
        "\n",
        "with open('/kaggle/input/contest-model-2/scikitlearn/default/1/finalmodelpickle4.pkl', 'rb') as pickle_file:\n",
        "    model_data = pickle.load(pickle_file)\n",
        "\n",
        "models = model_data[0]\n",
        "powers_by_model = model_data[1]\n",
        "final_model = model_data[2]\n",
        "\n",
        "models[0].verbose = 0\n",
        "models[2].verbose = 0\n",
        "models[3].verbose = False\n",
        "\n",
        "def predict(test: pl.DataFrame, lags: pl.DataFrame | None) -> pl.DataFrame | pd.DataFrame:\n",
        "    test_pandas = test.to_pandas()\n",
        "\n",
        "    test_pd = test_pandas[[(f\"feature_{rangeval:02}\") for rangeval in range(0, 79)]].fillna(0)\n",
        "\n",
        "    test_pd_abs = np.abs(test_pd)\n",
        "\n",
        "    test_pd_sign = np.sign(test_pd)\n",
        "\n",
        "    row_ids = test_pandas[[\"row_id\"]]\n",
        "\n",
        "    model_ensemble_outputs = []\n",
        "    for i in range(0, len(models)):\n",
        "        if powers_by_model[i] == 1.0:\n",
        "            model_ensemble_outputs = model_ensemble_outputs + [pd.DataFrame(models[i].predict(test_pd))]\n",
        "        else:\n",
        "            current_training_features = np.power(test_pd_abs, powers_by_model[i]) * test_pd_sign\n",
        "            model_ensemble_outputs = model_ensemble_outputs + [pd.DataFrame(models[i].predict(current_training_features))]\n",
        "\n",
        "    model_ensemble_output_merged = pd.concat(model_ensemble_outputs, axis=1)\n",
        "\n",
        "    final_output = pd.DataFrame(final_model.predict(model_ensemble_output_merged))\n",
        "\n",
        "    final_output.columns = [\"responder_6\"]\n",
        "\n",
        "    output_columns = [row_ids, final_output]\n",
        "\n",
        "    function_output = pd.concat(output_columns, axis=1)\n",
        "\n",
        "    predictions = pl.from_pandas(function_output)\n",
        "\n",
        "    if isinstance(predictions, pl.DataFrame):\n",
        "        assert predictions.columns == ['row_id', 'responder_6']\n",
        "    elif isinstance(predictions, pd.DataFrame):\n",
        "        assert (predictions.columns == ['row_id', 'responder_6']).all()\n",
        "    else:\n",
        "        raise TypeError('The predict function must return a DataFrame')\n",
        "    assert len(predictions) == len(test)\n",
        "    return predictions\n",
        "\n",
        "if True:\n",
        "    inference_server = kaggle_evaluation.jane_street_inference_server.JSInferenceServer(predict)\n",
        "    if os.getenv('KAGGLE_IS_COMPETITION_RERUN'):\n",
        "        inference_server.serve()\n",
        "    else:\n",
        "        inference_server.run_local_gateway(\n",
        "            (\n",
        "                '/kaggle/input/jane-street-real-time-market-data-forecasting/test.parquet',\n",
        "                '/kaggle/input/jane-street-real-time-market-data-forecasting/lags.parquet',\n",
        "            )\n",
        "        )"
      ]
    }
  ],
  "metadata": {
    "kaggle": {
      "accelerator": "none",
      "dataSources": [
        {
          "databundleVersionId": 9871156,
          "sourceId": 84493,
          "sourceType": "competition"
        },
        {
          "modelId": 197539,
          "modelInstanceId": 175183,
          "sourceId": 205415,
          "sourceType": "modelInstanceVersion"
        },
        {
          "isSourceIdPinned": true,
          "modelId": 198120,
          "modelInstanceId": 175777,
          "sourceId": 206159,
          "sourceType": "modelInstanceVersion"
        }
      ],
      "dockerImageVersionId": 30822,
      "isGpuEnabled": false,
      "isInternetEnabled": false,
      "language": "python",
      "sourceType": "notebook"
    },
    "kernelspec": {
      "display_name": "Python 3",
      "language": "python",
      "name": "python3"
    },
    "language_info": {
      "codemirror_mode": {
        "name": "ipython",
        "version": 3
      },
      "file_extension": ".py",
      "mimetype": "text/x-python",
      "name": "python",
      "nbconvert_exporter": "python",
      "pygments_lexer": "ipython3",
      "version": "3.10.12"
    },
    "papermill": {
      "default_parameters": {},
      "duration": 10.651867,
      "end_time": "2024-12-21T22:31:52.424276",
      "environment_variables": {},
      "exception": null,
      "input_path": "__notebook__.ipynb",
      "output_path": "__notebook__.ipynb",
      "parameters": {},
      "start_time": "2024-12-21T22:31:41.772409",
      "version": "2.6.0"
    },
    "colab": {
      "provenance": []
    }
  },
  "nbformat": 4,
  "nbformat_minor": 5
}